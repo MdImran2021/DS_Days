{
  "nbformat": 4,
  "nbformat_minor": 0,
  "metadata": {
    "colab": {
      "name": "Day5.ipynb",
      "provenance": [],
      "collapsed_sections": [],
      "authorship_tag": "ABX9TyNKJ8jQiNOclj6LTsbNiKCd",
      "include_colab_link": true
    },
    "kernelspec": {
      "name": "python3",
      "display_name": "Python 3"
    },
    "language_info": {
      "name": "python"
    }
  },
  "cells": [
    {
      "cell_type": "markdown",
      "metadata": {
        "id": "view-in-github",
        "colab_type": "text"
      },
      "source": [
        "<a href=\"https://colab.research.google.com/github/MdImran2021/DS_Days/blob/main/Day5.ipynb\" target=\"_parent\"><img src=\"https://colab.research.google.com/assets/colab-badge.svg\" alt=\"Open In Colab\"/></a>"
      ]
    },
    {
      "cell_type": "code",
      "metadata": {
        "id": "uxlaxpE-S3Ad"
      },
      "source": [
        "import pandas as pd\n",
        "import numpy as np\n",
        "import matplotlib.pyplot as plt\n"
      ],
      "execution_count": 1,
      "outputs": []
    },
    {
      "cell_type": "code",
      "metadata": {
        "id": "LI4iDxHfUGDI"
      },
      "source": [
        "dataset = pd.read_csv(\"/content/Salary_Data.csv\")"
      ],
      "execution_count": 2,
      "outputs": []
    },
    {
      "cell_type": "code",
      "metadata": {
        "id": "XiWLncamUMY-"
      },
      "source": [
        "x= dataset.iloc[:,:-1].values\n",
        "y = dataset.iloc[:,-1].values"
      ],
      "execution_count": 4,
      "outputs": []
    },
    {
      "cell_type": "code",
      "metadata": {
        "id": "M-UaHmkoUaAu"
      },
      "source": [
        "from sklearn.model_selection import train_test_split\n",
        "x_train, x_test, y_train, y_test = train_test_split(x,y,test_size = 1/3)"
      ],
      "execution_count": 6,
      "outputs": []
    },
    {
      "cell_type": "code",
      "metadata": {
        "colab": {
          "base_uri": "https://localhost:8080/"
        },
        "id": "p1CVPrIDVQgg",
        "outputId": "232bf1bc-782f-4353-f61e-3815c9f6b466"
      },
      "source": [
        "print(x_train)\n",
        "print(x_test)\n",
        "print(y_train)\n",
        "print(y_test)"
      ],
      "execution_count": 9,
      "outputs": [
        {
          "output_type": "stream",
          "text": [
            "[[ 1.1]\n",
            " [ 4.1]\n",
            " [ 7.9]\n",
            " [ 1.5]\n",
            " [10.5]\n",
            " [ 8.2]\n",
            " [ 4.9]\n",
            " [10.3]\n",
            " [ 9.6]\n",
            " [ 8.7]\n",
            " [ 9. ]\n",
            " [ 3.9]\n",
            " [ 3.2]\n",
            " [ 6.8]\n",
            " [ 5.3]\n",
            " [ 4.5]\n",
            " [ 2.9]\n",
            " [ 3.2]\n",
            " [ 6. ]\n",
            " [ 4. ]]\n",
            "[[4. ]\n",
            " [5.9]\n",
            " [3.7]\n",
            " [5.1]\n",
            " [2. ]\n",
            " [2.2]\n",
            " [1.3]\n",
            " [3. ]\n",
            " [7.1]\n",
            " [9.5]]\n",
            "[ 39343.  57081. 101302.  37731. 121872. 113812.  67938. 122391. 112635.\n",
            " 109431. 105582.  63218.  64445.  91738.  83088.  61111.  56642.  54445.\n",
            "  93940.  56957.]\n",
            "[ 55794.  81363.  57189.  66029.  43525.  39891.  46205.  60150.  98273.\n",
            " 116969.]\n"
          ],
          "name": "stdout"
        }
      ]
    },
    {
      "cell_type": "code",
      "metadata": {
        "colab": {
          "base_uri": "https://localhost:8080/"
        },
        "id": "yuk0URHIVfiW",
        "outputId": "4ea3e6c0-b33c-47bb-e1d6-83b81c8ba69f"
      },
      "source": [
        "from sklearn.linear_model import LinearRegression\n",
        "slr = LinearRegression()\n",
        "slr.fit(x_train, y_train)"
      ],
      "execution_count": 15,
      "outputs": [
        {
          "output_type": "execute_result",
          "data": {
            "text/plain": [
              "LinearRegression(copy_X=True, fit_intercept=True, n_jobs=None, normalize=False)"
            ]
          },
          "metadata": {
            "tags": []
          },
          "execution_count": 15
        }
      ]
    },
    {
      "cell_type": "code",
      "metadata": {
        "id": "8j4QoOEKV77k"
      },
      "source": [
        "y_pred = slr.predict(x_test)"
      ],
      "execution_count": 18,
      "outputs": []
    },
    {
      "cell_type": "code",
      "metadata": {
        "colab": {
          "base_uri": "https://localhost:8080/"
        },
        "id": "EWxRzDgAWJHr",
        "outputId": "af471bf2-2a50-46b1-ee0e-0bf3c0d307b7"
      },
      "source": [
        "y_pred"
      ],
      "execution_count": 19,
      "outputs": [
        {
          "output_type": "execute_result",
          "data": {
            "text/plain": [
              "array([ 64071.29882696,  81858.50232627,  61262.79301128,  74369.15348446,\n",
              "        45347.92672243,  47220.26393288,  38794.74648584,  54709.6127747 ,\n",
              "        93092.52558899, 115560.57211443])"
            ]
          },
          "metadata": {
            "tags": []
          },
          "execution_count": 19
        }
      ]
    },
    {
      "cell_type": "code",
      "metadata": {
        "colab": {
          "base_uri": "https://localhost:8080/"
        },
        "id": "HijJBIf6Wj3k",
        "outputId": "b1965297-198f-428c-d1f2-f666abc6133d"
      },
      "source": [
        "x_test"
      ],
      "execution_count": 20,
      "outputs": [
        {
          "output_type": "execute_result",
          "data": {
            "text/plain": [
              "array([[4. ],\n",
              "       [5.9],\n",
              "       [3.7],\n",
              "       [5.1],\n",
              "       [2. ],\n",
              "       [2.2],\n",
              "       [1.3],\n",
              "       [3. ],\n",
              "       [7.1],\n",
              "       [9.5]])"
            ]
          },
          "metadata": {
            "tags": []
          },
          "execution_count": 20
        }
      ]
    },
    {
      "cell_type": "code",
      "metadata": {
        "colab": {
          "base_uri": "https://localhost:8080/",
          "height": 295
        },
        "id": "JTyb3U6_WqBz",
        "outputId": "ecab9285-3c6e-41b7-98b6-e08a68ebf6a0"
      },
      "source": [
        "plt.scatter(x_train,y_train, color = \"blue\")\n",
        "plt.plot(x_train, slr.predict(x_train), color = \"green\")\n",
        "plt.title(\"Simple Linear Regression Model\")\n",
        "plt.xlabel(\"Experience\")\n",
        "plt.ylabel(\"Salary\")\n",
        "plt.show()"
      ],
      "execution_count": 23,
      "outputs": [
        {
          "output_type": "display_data",
          "data": {
            "image/png": "[encoded data removed]",
            "text/plain": [
              "<Figure size 432x288 with 1 Axes>"
            ]
          },
          "metadata": {
            "tags": [],
            "needs_background": "light"
          }
        }
      ]
    },
    {
      "cell_type": "code",
      "metadata": {
        "colab": {
          "base_uri": "https://localhost:8080/",
          "height": 295
        },
        "id": "8UIi6vdhXI6W",
        "outputId": "f1a0c9a1-954c-4809-df57-e69153895aa5"
      },
      "source": [
        "plt.scatter(x_test,y_test, color = \"blue\")\n",
        "plt.plot(x_test, slr.predict(x_test), color = \"green\")\n",
        "plt.title(\"Simple Linear Regression Model\")\n",
        "plt.xlabel(\"Experience\")\n",
        "plt.ylabel(\"Salary\")\n",
        "plt.show()"
      ],
      "execution_count": 26,
      "outputs": [
        {
          "output_type": "display_data",
          "data": {
            "image/png": "[encoded data removed]",
            "text/plain": [
              "<Figure size 432x288 with 1 Axes>"
            ]
          },
          "metadata": {
            "tags": [],
            "needs_background": "light"
          }
        }
      ]
    },
    {
      "cell_type": "code",
      "metadata": {
        "colab": {
          "base_uri": "https://localhost:8080/"
        },
        "id": "Y3klcRiJYGCb",
        "outputId": "5fcf4c25-71c5-4921-e8ef-184e8a35c9e9"
      },
      "source": [
        "print(slr.predict([[6.5]]))"
      ],
      "execution_count": 28,
      "outputs": [
        {
          "output_type": "stream",
          "text": [
            "[87475.51395763]\n"
          ],
          "name": "stdout"
        }
      ]
    },
    {
      "cell_type": "code",
      "metadata": {
        "colab": {
          "base_uri": "https://localhost:8080/"
        },
        "id": "a8SC9X1lZh1d",
        "outputId": "8c847f31-2c14-4073-dc6b-3f0e2d9bee4b"
      },
      "source": [
        "print(slr.predict([[11]]))"
      ],
      "execution_count": 29,
      "outputs": [
        {
          "output_type": "stream",
          "text": [
            "[129603.10119283]\n"
          ],
          "name": "stdout"
        }
      ]
    },
    {
      "cell_type": "code",
      "metadata": {
        "id": "K1U6QQjSaAke"
      },
      "source": [
        ""
      ],
      "execution_count": null,
      "outputs": []
    }
  ]
}