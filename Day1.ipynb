{
  "nbformat": 4,
  "nbformat_minor": 0,
  "metadata": {
    "colab": {
      "name": "Day1.ipynb",
      "provenance": [],
      "collapsed_sections": [],
      "authorship_tag": "ABX9TyMlaTO1n3nV8gaRTAdIt/ic",
      "include_colab_link": true
    },
    "kernelspec": {
      "name": "python3",
      "display_name": "Python 3"
    },
    "language_info": {
      "name": "python"
    }
  },
  "cells": [
    {
      "cell_type": "markdown",
      "metadata": {
        "id": "view-in-github",
        "colab_type": "text"
      },
      "source": [
        "<a href=\"https://colab.research.google.com/github/MdImran2021/Day1/blob/main/Day1.ipynb\" target=\"_parent\"><img src=\"https://colab.research.google.com/assets/colab-badge.svg\" alt=\"Open In Colab\"/></a>"
      ]
    },
    {
      "cell_type": "code",
      "metadata": {
        "id": "-nyicwg9WCWu"
      },
      "source": [
        ""
      ],
      "execution_count": null,
      "outputs": []
    },
    {
      "cell_type": "markdown",
      "metadata": {
        "id": "pR0pyr_fWFdv"
      },
      "source": [
        "##**Implementing Numpy using python programming**"
      ]
    },
    {
      "cell_type": "code",
      "metadata": {
        "colab": {
          "base_uri": "https://localhost:8080/"
        },
        "id": "Q_vvvKplWHiV",
        "outputId": "cb771062-ee33-4c55-f5a1-24c7697f91be"
      },
      "source": [
        "##Importing Libraries\n",
        "import numpy as np\n",
        "a = [1,2,3,4] #list\n",
        "arr1 = np.array(a)\n",
        "print(arr1)\n",
        "b = [[1,2,3,4],[5,6,7,8]] #list2\n",
        "arr2 = np.array(b)\n",
        "print(arr2)"
      ],
      "execution_count": 1,
      "outputs": [
        {
          "output_type": "stream",
          "text": [
            "[1 2 3 4]\n",
            "[[1 2 3 4]\n",
            " [5 6 7 8]]\n"
          ],
          "name": "stdout"
        }
      ]
    },
    {
      "cell_type": "code",
      "metadata": {
        "colab": {
          "base_uri": "https://localhost:8080/"
        },
        "id": "r1fiClKYWQK9",
        "outputId": "1ab8ce92-bd8e-4dc3-c51d-13b67d2c139d"
      },
      "source": [
        "import numpy as np\n",
        "import sys\n",
        "\n",
        "s = np.arange(10000)\n",
        "print(\"Size of each element of numpy array in bytes\",s.itemsize)\n",
        "print(\"Size of whole array in bytes:\",s.size*s.itemsize)"
      ],
      "execution_count": 2,
      "outputs": [
        {
          "output_type": "stream",
          "text": [
            "Size of each element of numpy array in bytes 8\n",
            "Size of whole array in bytes: 80000\n"
          ],
          "name": "stdout"
        }
      ]
    },
    {
      "cell_type": "code",
      "metadata": {
        "colab": {
          "base_uri": "https://localhost:8080/"
        },
        "id": "hzUYtPH2WRUV",
        "outputId": "c3ea8207-1f16-4fac-fe4b-de103e277dea"
      },
      "source": [
        "import numpy as np\n",
        "import time\n",
        "\n",
        "a = np.arange(10000)\n",
        "b = np.arange(10000)\n",
        "\n",
        "start =time.time() #mark the start time\n",
        "\n",
        "ab = [(a*b) for a,b in zip(a,b)]\n",
        "end =time.time() #mark the end time\n",
        "print(\"Total time taken:\", end - start)"
      ],
      "execution_count": 3,
      "outputs": [
        {
          "output_type": "stream",
          "text": [
            "Total time taken: 0.0053539276123046875\n"
          ],
          "name": "stdout"
        }
      ]
    },
    {
      "cell_type": "code",
      "metadata": {
        "colab": {
          "base_uri": "https://localhost:8080/"
        },
        "id": "dsocNVRIWUdl",
        "outputId": "67f49aa3-d467-4f05-b28f-8d1bcdfcd660"
      },
      "source": [
        "import numpy as np\n",
        "arr3 = np.array([[1,2,3,4],[5,6,7,8]],ndmin =2) #2D np array\n",
        "print(arr3)"
      ],
      "execution_count": 4,
      "outputs": [
        {
          "output_type": "stream",
          "text": [
            "[[1 2 3 4]\n",
            " [5 6 7 8]]\n"
          ],
          "name": "stdout"
        }
      ]
    },
    {
      "cell_type": "code",
      "metadata": {
        "colab": {
          "base_uri": "https://localhost:8080/"
        },
        "id": "FDwx4v3yWWlo",
        "outputId": "beb0a224-4d6a-47fa-f9a6-ac0dce2d2e47"
      },
      "source": [
        "arr4 = np.array([[1,2,3,4],[5,6,7,8]])\n",
        "print(arr4.dtype)\n",
        "print(arr4.ndim)\n",
        "print(arr4.shape)\n",
        "print(arr4.size)"
      ],
      "execution_count": 5,
      "outputs": [
        {
          "output_type": "stream",
          "text": [
            "int64\n",
            "2\n",
            "(2, 4)\n",
            "8\n"
          ],
          "name": "stdout"
        }
      ]
    },
    {
      "cell_type": "code",
      "metadata": {
        "colab": {
          "base_uri": "https://localhost:8080/"
        },
        "id": "HbPwcdt3WZRm",
        "outputId": "4dfc9537-f23d-4386-ddf4-a116865f75d4"
      },
      "source": [
        "zero1 = np.zeros((2,2))\n",
        "print(zero1)"
      ],
      "execution_count": 6,
      "outputs": [
        {
          "output_type": "stream",
          "text": [
            "[[0. 0.]\n",
            " [0. 0.]]\n"
          ],
          "name": "stdout"
        }
      ]
    },
    {
      "cell_type": "code",
      "metadata": {
        "colab": {
          "base_uri": "https://localhost:8080/"
        },
        "id": "-aNfYtNFWcT-",
        "outputId": "fcec40be-09d5-42cb-aaf2-835cda6d51a9"
      },
      "source": [
        "c = np.arange(3,10,2)\n",
        "print(type(c))"
      ],
      "execution_count": 7,
      "outputs": [
        {
          "output_type": "stream",
          "text": [
            "<class 'numpy.ndarray'>\n"
          ],
          "name": "stdout"
        }
      ]
    },
    {
      "cell_type": "code",
      "metadata": {
        "colab": {
          "base_uri": "https://localhost:8080/"
        },
        "id": "iYzgiCO9Wd0u",
        "outputId": "fca0b9b6-cd46-42bf-bbcb-ef71a79cf84b"
      },
      "source": [
        "a = [1,2,3,4,5] \n",
        "b = np.array(a)\n",
        "print(b)"
      ],
      "execution_count": 8,
      "outputs": [
        {
          "output_type": "stream",
          "text": [
            "[1 2 3 4 5]\n"
          ],
          "name": "stdout"
        }
      ]
    },
    {
      "cell_type": "code",
      "metadata": {
        "colab": {
          "base_uri": "https://localhost:8080/"
        },
        "id": "4_GH9FgtWftG",
        "outputId": "45677df3-3eee-49b7-a837-ed5bca63edcb"
      },
      "source": [
        "b[2]\n",
        "b[4]"
      ],
      "execution_count": 9,
      "outputs": [
        {
          "output_type": "execute_result",
          "data": {
            "text/plain": [
              "5"
            ]
          },
          "metadata": {
            "tags": []
          },
          "execution_count": 9
        }
      ]
    },
    {
      "cell_type": "code",
      "metadata": {
        "colab": {
          "base_uri": "https://localhost:8080/"
        },
        "id": "iASWc0ovWhjO",
        "outputId": "7dc76171-b605-498d-f85f-1b0c828ab0df"
      },
      "source": [
        "b[-3]"
      ],
      "execution_count": 10,
      "outputs": [
        {
          "output_type": "execute_result",
          "data": {
            "text/plain": [
              "3"
            ]
          },
          "metadata": {
            "tags": []
          },
          "execution_count": 10
        }
      ]
    },
    {
      "cell_type": "code",
      "metadata": {
        "colab": {
          "base_uri": "https://localhost:8080/"
        },
        "id": "P-_FjAXaWjGt",
        "outputId": "4efc7ae4-e117-47fa-82dc-869d62799d03"
      },
      "source": [
        "b[-4]"
      ],
      "execution_count": 11,
      "outputs": [
        {
          "output_type": "execute_result",
          "data": {
            "text/plain": [
              "2"
            ]
          },
          "metadata": {
            "tags": []
          },
          "execution_count": 11
        }
      ]
    },
    {
      "cell_type": "code",
      "metadata": {
        "colab": {
          "base_uri": "https://localhost:8080/"
        },
        "id": "ybRexuubWkDm",
        "outputId": "65ce8bae-04d6-47ac-b595-da485428ddbe"
      },
      "source": [
        "b[0:2]"
      ],
      "execution_count": 12,
      "outputs": [
        {
          "output_type": "execute_result",
          "data": {
            "text/plain": [
              "array([1, 2])"
            ]
          },
          "metadata": {
            "tags": []
          },
          "execution_count": 12
        }
      ]
    },
    {
      "cell_type": "code",
      "metadata": {
        "colab": {
          "base_uri": "https://localhost:8080/"
        },
        "id": "csKo4StDWlx9",
        "outputId": "8ce89c38-53d8-4bc0-fe2f-a670d63425d2"
      },
      "source": [
        "b[0:5]"
      ],
      "execution_count": 13,
      "outputs": [
        {
          "output_type": "execute_result",
          "data": {
            "text/plain": [
              "array([1, 2, 3, 4, 5])"
            ]
          },
          "metadata": {
            "tags": []
          },
          "execution_count": 13
        }
      ]
    },
    {
      "cell_type": "code",
      "metadata": {
        "colab": {
          "base_uri": "https://localhost:8080/"
        },
        "id": "8OJvYlLXWonl",
        "outputId": "4a27223d-39c3-47f5-a687-d2d5f3ee5ca8"
      },
      "source": [
        "b[2]"
      ],
      "execution_count": 14,
      "outputs": [
        {
          "output_type": "execute_result",
          "data": {
            "text/plain": [
              "3"
            ]
          },
          "metadata": {
            "tags": []
          },
          "execution_count": 14
        }
      ]
    },
    {
      "cell_type": "code",
      "metadata": {
        "id": "x15kkJqBWqbe"
      },
      "source": [
        "b[2] =5"
      ],
      "execution_count": 15,
      "outputs": []
    },
    {
      "cell_type": "code",
      "metadata": {
        "colab": {
          "base_uri": "https://localhost:8080/"
        },
        "id": "b7Lpm8D1WsW9",
        "outputId": "7fadc041-abf6-4034-83d3-7ad6de232178"
      },
      "source": [
        "b[2]"
      ],
      "execution_count": 16,
      "outputs": [
        {
          "output_type": "execute_result",
          "data": {
            "text/plain": [
              "5"
            ]
          },
          "metadata": {
            "tags": []
          },
          "execution_count": 16
        }
      ]
    },
    {
      "cell_type": "code",
      "metadata": {
        "colab": {
          "base_uri": "https://localhost:8080/"
        },
        "id": "n-3gUa72WuAF",
        "outputId": "1d901c9b-e1bf-4bb8-a078-2ae30dd04437"
      },
      "source": [
        "print(b)"
      ],
      "execution_count": 17,
      "outputs": [
        {
          "output_type": "stream",
          "text": [
            "[1 2 5 4 5]\n"
          ],
          "name": "stdout"
        }
      ]
    },
    {
      "cell_type": "code",
      "metadata": {
        "colab": {
          "base_uri": "https://localhost:8080/"
        },
        "id": "KbrfadJSWvH9",
        "outputId": "f8bc1a3f-85af-4a77-d9b1-59042003409b"
      },
      "source": [
        "print(b[3, ])"
      ],
      "execution_count": 19,
      "outputs": [
        {
          "output_type": "stream",
          "text": [
            "4\n"
          ],
          "name": "stdout"
        }
      ]
    },
    {
      "cell_type": "code",
      "metadata": {
        "colab": {
          "base_uri": "https://localhost:8080/"
        },
        "id": "ruJ1fuGrWxxI",
        "outputId": "82113e40-bd9e-4302-ce70-0da875ab230a"
      },
      "source": [
        "print(b[3: ])"
      ],
      "execution_count": 20,
      "outputs": [
        {
          "output_type": "stream",
          "text": [
            "[4 5]\n"
          ],
          "name": "stdout"
        }
      ]
    },
    {
      "cell_type": "code",
      "metadata": {
        "colab": {
          "base_uri": "https://localhost:8080/"
        },
        "id": "F79ZKs8IWyM9",
        "outputId": "57e3f9cc-95e8-4c8b-e0c6-81dd45b20a3e"
      },
      "source": [
        "print(b[5: ])"
      ],
      "execution_count": 21,
      "outputs": [
        {
          "output_type": "stream",
          "text": [
            "[]\n"
          ],
          "name": "stdout"
        }
      ]
    },
    {
      "cell_type": "code",
      "metadata": {
        "colab": {
          "base_uri": "https://localhost:8080/"
        },
        "id": "kbRjiBqpWz1V",
        "outputId": "c3618774-90ed-4a82-a3ca-22423e1eeb31"
      },
      "source": [
        "print(b[:4])"
      ],
      "execution_count": 22,
      "outputs": [
        {
          "output_type": "stream",
          "text": [
            "[1 2 5 4]\n"
          ],
          "name": "stdout"
        }
      ]
    },
    {
      "cell_type": "code",
      "metadata": {
        "id": "pKJ8dOYaW1gv"
      },
      "source": [
        "c = np.array([[1,2,3,4,5],[6,7,8,9,10]])"
      ],
      "execution_count": 23,
      "outputs": []
    },
    {
      "cell_type": "code",
      "metadata": {
        "colab": {
          "base_uri": "https://localhost:8080/"
        },
        "id": "_axPCHWpW3m2",
        "outputId": "ae960aa8-6e5d-47f7-9841-c3fa39ab0782"
      },
      "source": [
        "c"
      ],
      "execution_count": 24,
      "outputs": [
        {
          "output_type": "execute_result",
          "data": {
            "text/plain": [
              "array([[ 1,  2,  3,  4,  5],\n",
              "       [ 6,  7,  8,  9, 10]])"
            ]
          },
          "metadata": {
            "tags": []
          },
          "execution_count": 24
        }
      ]
    },
    {
      "cell_type": "code",
      "metadata": {
        "colab": {
          "base_uri": "https://localhost:8080/"
        },
        "id": "Mvs0iql-W5rl",
        "outputId": "d0b8924d-209e-4b85-c911-142aba918cd8"
      },
      "source": [
        "print(c[0])"
      ],
      "execution_count": 25,
      "outputs": [
        {
          "output_type": "stream",
          "text": [
            "[1 2 3 4 5]\n"
          ],
          "name": "stdout"
        }
      ]
    },
    {
      "cell_type": "code",
      "metadata": {
        "colab": {
          "base_uri": "https://localhost:8080/"
        },
        "id": "KXYhqWCwgyX8",
        "outputId": "3626329e-836e-4d4f-96b5-d9e952f194e1"
      },
      "source": [
        "print(c[0][3])"
      ],
      "execution_count": 26,
      "outputs": [
        {
          "output_type": "stream",
          "text": [
            "4\n"
          ],
          "name": "stdout"
        }
      ]
    }
  ]
}